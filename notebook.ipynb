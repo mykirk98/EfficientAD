{
 "cells": [
  {
   "cell_type": "code",
   "execution_count": 1,
   "metadata": {},
   "outputs": [],
   "source": [
    "import numpy as np\n",
    "from PIL import Image\n",
    "import cv2"
   ]
  },
  {
   "cell_type": "code",
   "execution_count": 3,
   "metadata": {},
   "outputs": [
    {
     "name": "stdout",
     "output_type": "stream",
     "text": [
      "(900, 900)\n",
      "1.9672815\n",
      "-0.06999613\n",
      "643204\n"
     ]
    }
   ],
   "source": [
    "image_path = '/home/msis/Work/anomalyDetector/EfficientAD/output/1/anomaly_maps/MVTec_AD/bottle/test/broken_large/000.tiff'\n",
    "with Image.open(image_path) as img:\n",
    "    image_array1 = np.array(img)\n",
    "\n",
    "print(image_array1.shape)\n",
    "print(np.max(image_array1))\n",
    "print(np.min(image_array1))\n",
    "print(np.count_nonzero(image_array1))"
   ]
  },
  {
   "cell_type": "code",
   "execution_count": 4,
   "metadata": {},
   "outputs": [],
   "source": [
    "image_array1 = (image_array1) / (np.max(image_array1) - np.min(image_array1)) * 255\n",
    "# image_array1 = image_array1.astype(np.uint8)\n",
    "\n",
    "# cv2.imwrite('test1.jpg', image_array1)\n",
    "# cv2.imwrite('test2.jpg', image_array1)"
   ]
  },
  {
   "cell_type": "code",
   "execution_count": 5,
   "metadata": {},
   "outputs": [
    {
     "name": "stdout",
     "output_type": "stream",
     "text": [
      "(900, 900)\n",
      "246.23878\n",
      "-8.761208\n",
      "643204\n"
     ]
    }
   ],
   "source": [
    "print(image_array1.shape)\n",
    "print(np.max(image_array1))\n",
    "print(np.min(image_array1))\n",
    "print(np.count_nonzero(image_array1))"
   ]
  },
  {
   "cell_type": "code",
   "execution_count": 6,
   "metadata": {},
   "outputs": [],
   "source": [
    "image_array1 -= np.min(image_array1)\n",
    "image_array1 = (image_array1) / (np.max(image_array1) - np.min(image_array1)) * 255\n",
    "# image_array1 = image_array1.astype(np.uint8)\n",
    "\n",
    "# cv2.imwrite('test1.jpg', image_array1)\n",
    "# cv2.imwrite('test2.jpg', image_array1)"
   ]
  },
  {
   "cell_type": "code",
   "execution_count": 8,
   "metadata": {},
   "outputs": [
    {
     "name": "stdout",
     "output_type": "stream",
     "text": [
      "(900, 900)\n",
      "255.0\n",
      "0.0\n",
      "809999\n",
      "24.120798\n"
     ]
    }
   ],
   "source": [
    "print(image_array1.shape)\n",
    "print(np.max(image_array1))\n",
    "print(np.min(image_array1))\n",
    "print(np.count_nonzero(image_array1))\n",
    "print(np.mean(image_array1))"
   ]
  },
  {
   "cell_type": "code",
   "execution_count": 9,
   "metadata": {},
   "outputs": [
    {
     "data": {
      "text/plain": [
       "True"
      ]
     },
     "execution_count": 9,
     "metadata": {},
     "output_type": "execute_result"
    }
   ],
   "source": [
    "cv2.imwrite(filename='test5.jpg', img=image_array1)\n",
    "# Image.fromarray(image_array1).save(fp='test3.jpg', format='JPEG')"
   ]
  }
 ],
 "metadata": {
  "kernelspec": {
   "display_name": "efficientad",
   "language": "python",
   "name": "python3"
  },
  "language_info": {
   "codemirror_mode": {
    "name": "ipython",
    "version": 3
   },
   "file_extension": ".py",
   "mimetype": "text/x-python",
   "name": "python",
   "nbconvert_exporter": "python",
   "pygments_lexer": "ipython3",
   "version": "3.10.15"
  }
 },
 "nbformat": 4,
 "nbformat_minor": 2
}
